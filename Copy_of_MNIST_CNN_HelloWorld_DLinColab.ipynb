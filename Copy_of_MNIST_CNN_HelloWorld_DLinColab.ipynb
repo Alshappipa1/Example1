{
  "nbformat": 4,
  "nbformat_minor": 0,
  "metadata": {
    "colab": {
      "provenance": [],
      "include_colab_link": true
    },
    "kernelspec": {
      "name": "python3",
      "display_name": "Python 3"
    },
    "accelerator": "GPU"
  },
  "cells": [
    {
      "cell_type": "markdown",
      "metadata": {
        "id": "view-in-github",
        "colab_type": "text"
      },
      "source": [
        "<a href=\"https://colab.research.google.com/github/Alshappipa1/Example1/blob/master/Copy_of_MNIST_CNN_HelloWorld_DLinColab.ipynb\" target=\"_parent\"><img src=\"https://colab.research.google.com/assets/colab-badge.svg\" alt=\"Open In Colab\"/></a>"
      ]
    },
    {
      "cell_type": "markdown",
      "metadata": {
        "id": "C8QdNgqhrIUn"
      },
      "source": [
        "# Prepare the workspace - load Keras, Tensorflow"
      ]
    },
    {
      "cell_type": "code",
      "metadata": {
        "id": "TPcE-cf03x1G"
      },
      "source": [
        "from __future__ import print_function\n",
        "import keras\n",
        "from keras import utils\n",
        "from keras.utils import plot_model\n",
        "from keras.datasets import mnist\n",
        "from keras.models import Sequential\n",
        "from keras.layers import Dense, Dropout, Flatten\n",
        "from keras.layers import Conv2D, MaxPooling2D\n",
        "from keras import backend as K\n",
        "import matplotlib.pyplot as plt"
      ],
      "execution_count": 69,
      "outputs": []
    },
    {
      "cell_type": "markdown",
      "metadata": {
        "id": "p7GQglE4u3IB"
      },
      "source": [
        "# Import the MNIST dataset + create variables for our test and training data"
      ]
    },
    {
      "cell_type": "code",
      "metadata": {
        "id": "vk-aKTUq37Mp"
      },
      "source": [
        "(x_train, y_train), (x_test, y_test) = mnist.load_data()"
      ],
      "execution_count": 70,
      "outputs": []
    },
    {
      "cell_type": "markdown",
      "metadata": {
        "id": "rF6PmE2CMJhy"
      },
      "source": [
        "# CNN specific shape of the data"
      ]
    },
    {
      "cell_type": "code",
      "metadata": {
        "id": "FTrzMFS1MI_w"
      },
      "source": [
        "# input image dimensions of MNIST data\n",
        "img_rows, img_cols = 28, 28\n",
        "x_train = x_train.reshape(x_train.shape[0], img_rows, img_cols, 1)\n",
        "x_test = x_test.reshape(x_test.shape[0], img_rows, img_cols, 1)"
      ],
      "execution_count": 71,
      "outputs": []
    },
    {
      "cell_type": "markdown",
      "metadata": {
        "id": "Rn5M-JoHzCDm"
      },
      "source": [
        "# Preprocess the data\n",
        "Note we do not shape it into a 1D vector of size 28*28 = 784 here, but rather keep the images as 28 x 28 x 1 to be used with 2D convolution layer.\n",
        "\n",
        "Compare this preprocessing steps in the code MNIST_HelloWorld_DLinR code!"
      ]
    },
    {
      "cell_type": "code",
      "metadata": {
        "id": "JHL9_0sE3_1Q",
        "colab": {
          "base_uri": "https://localhost:8080/"
        },
        "outputId": "d82a3563-3699-4904-98b1-a2afceb325c3"
      },
      "source": [
        "# rescale\n",
        "x_train = x_train.astype('float32')\n",
        "x_test = x_test.astype('float32')\n",
        "x_train /= 255\n",
        "x_test /= 255\n",
        "print('x_train shape:', x_train.shape)\n",
        "print('x_test shape:', x_test.shape)\n",
        "print(x_train.shape[0], 'train samples')\n",
        "print(x_test.shape[0], 'test samples')\n"
      ],
      "execution_count": 72,
      "outputs": [
        {
          "output_type": "stream",
          "name": "stdout",
          "text": [
            "x_train shape: (60000, 28, 28, 1)\n",
            "x_test shape: (10000, 28, 28, 1)\n",
            "60000 train samples\n",
            "10000 test samples\n"
          ]
        }
      ]
    },
    {
      "cell_type": "markdown",
      "metadata": {
        "id": "2SHl08dwz0st"
      },
      "source": [
        "## The y data is an integer vector with values ranging from 0 to 9.  To prepare this data for training we one-hot encode the vectors into binary class matrices"
      ]
    },
    {
      "cell_type": "code",
      "metadata": {
        "id": "tczq1zJJ4Bd0",
        "colab": {
          "base_uri": "https://localhost:8080/"
        },
        "outputId": "d4eb17ba-57b0-4a59-bcf6-3ca5621ce986"
      },
      "source": [
        "# One hot encoding\n",
        "y_train = keras.utils.to_categorical(y_train, 10)\n",
        "y_test = keras.utils.to_categorical(y_test, 10)\n",
        "print('y_train shape:', y_train.shape)\n",
        "print('y_test shape:', y_test.shape)"
      ],
      "execution_count": 73,
      "outputs": [
        {
          "output_type": "stream",
          "name": "stdout",
          "text": [
            "y_train shape: (60000, 10)\n",
            "y_test shape: (10000, 10)\n"
          ]
        }
      ]
    },
    {
      "cell_type": "markdown",
      "metadata": {
        "id": "fytNaqPMy0uf"
      },
      "source": [
        "# Build the model\n",
        "Building the neural network requires configuring the layers of the model then compiling the model.\n",
        "\n",
        "# Setup the layers"
      ]
    },
    {
      "cell_type": "code",
      "metadata": {
        "id": "p5P1W5284GnQ"
      },
      "source": [
        "#CNN with the one layer\n",
        "\n",
        "model = Sequential()\n",
        "model.add(Conv2D(32, kernel_size=(3, 3),\n",
        "                 activation='relu',\n",
        "                 input_shape=(img_rows, img_cols, 1)))\n",
        "\n",
        "model.add(Dropout(0.4))\n",
        "model.add(Flatten())\n",
        "model.add(Dense(128, activation='relu'))\n",
        "model.add(Dropout(0.3))\n",
        "model.add(Dense(10, activation='softmax'))"
      ],
      "execution_count": null,
      "outputs": []
    },
    {
      "cell_type": "code",
      "source": [
        "#CNN with the 3 layers\n",
        "\n",
        "model = Sequential()\n",
        "model.add(Conv2D(32, kernel_size=(3, 3),\n",
        "                 activation='relu',\n",
        "                 input_shape=(img_rows, img_cols, 1)))\n",
        "#Second convolutional layer\n",
        "model.add(Conv2D(64, kernel_size=(3, 3),\n",
        "                 activation='relu'))\n",
        "#The max pooling layer\n",
        "model.add(MaxPooling2D(pool_size=(2, 2)))\n",
        "model.add(Dropout(0.4))\n",
        "model.add(Flatten())\n",
        "model.add(Dense(128, activation='relu'))\n",
        "model.add(Dropout(0.3))\n",
        "model.add(Dense(10, activation='softmax'))\n"
      ],
      "metadata": {
        "id": "Qcf86R36_-FI"
      },
      "execution_count": null,
      "outputs": []
    },
    {
      "cell_type": "code",
      "source": [
        "model = Sequential()\n",
        "model.add(Conv2D(32, kernel_size=(3, 3),\n",
        "                 activation='relu',\n",
        "                 input_shape=(img_rows, img_cols, 1)))\n",
        "#Second convolutional layer\n",
        "model.add(Conv2D(64, kernel_size=(3, 3),\n",
        "                 activation='relu'))\n",
        "#The max pooling layer\n",
        "model.add(MaxPooling2D(pool_size=(2, 2)))\n",
        "model.add(Dropout(0.25))\n",
        "model.add(Flatten())\n",
        "model.add(Dense(128, activation='relu'))\n",
        "model.add(Dropout(0.5))\n",
        "model.add(Dense(10, activation='softmax'))"
      ],
      "metadata": {
        "id": "jc9nzU5Wp7-A"
      },
      "execution_count": 74,
      "outputs": []
    },
    {
      "cell_type": "markdown",
      "metadata": {
        "id": "PcUJoY_V2eJc"
      },
      "source": [
        "# Print the details of the model"
      ]
    },
    {
      "cell_type": "code",
      "metadata": {
        "id": "JS1UAbLt0SKu",
        "colab": {
          "base_uri": "https://localhost:8080/",
          "height": 1000
        },
        "outputId": "b585393d-5159-4c9b-a7e9-6e2cade1c009"
      },
      "source": [
        "#keras.utils.print_summary(model)\n",
        "model.summary()\n",
        "# You can also plot instead\n",
        "keras.utils.plot_model(model)"
      ],
      "execution_count": 75,
      "outputs": [
        {
          "output_type": "stream",
          "name": "stdout",
          "text": [
            "Model: \"sequential_13\"\n",
            "_________________________________________________________________\n",
            " Layer (type)                Output Shape              Param #   \n",
            "=================================================================\n",
            " conv2d_25 (Conv2D)          (None, 26, 26, 32)        320       \n",
            "                                                                 \n",
            " conv2d_26 (Conv2D)          (None, 24, 24, 64)        18496     \n",
            "                                                                 \n",
            " max_pooling2d_12 (MaxPooli  (None, 12, 12, 64)        0         \n",
            " ng2D)                                                           \n",
            "                                                                 \n",
            " dropout_26 (Dropout)        (None, 12, 12, 64)        0         \n",
            "                                                                 \n",
            " flatten_13 (Flatten)        (None, 9216)              0         \n",
            "                                                                 \n",
            " dense_26 (Dense)            (None, 128)               1179776   \n",
            "                                                                 \n",
            " dropout_27 (Dropout)        (None, 128)               0         \n",
            "                                                                 \n",
            " dense_27 (Dense)            (None, 10)                1290      \n",
            "                                                                 \n",
            "=================================================================\n",
            "Total params: 1199882 (4.58 MB)\n",
            "Trainable params: 1199882 (4.58 MB)\n",
            "Non-trainable params: 0 (0.00 Byte)\n",
            "_________________________________________________________________\n"
          ]
        },
        {
          "output_type": "execute_result",
          "data": {
            "image/png": "[encoded data removed]",
            "text/plain": [
              "<IPython.core.display.Image object>"
            ]
          },
          "metadata": {},
          "execution_count": 75
        }
      ]
    },
    {
      "cell_type": "markdown",
      "source": [],
      "metadata": {
        "id": "st5u55mxjyTG"
      }
    },
    {
      "cell_type": "markdown",
      "metadata": {
        "id": "uJxeGY6wy9SY"
      },
      "source": [
        "# Compile the model - define loss and optimizer"
      ]
    },
    {
      "cell_type": "code",
      "metadata": {
        "id": "xf9mmKWK4QMh"
      },
      "source": [
        "model.compile(\n",
        "  loss= 'categorical_crossentropy',\n",
        "  optimizer= 'adam',\n",
        "  metrics='accuracy'\n",
        "  )"
      ],
      "execution_count": null,
      "outputs": []
    },
    {
      "cell_type": "markdown",
      "metadata": {
        "id": "W1o7VFdvzCcY"
      },
      "source": [
        "# Train the model"
      ]
    },
    {
      "cell_type": "code",
      "metadata": {
        "id": "hRMGGn5g4RdW",
        "colab": {
          "base_uri": "https://localhost:8080/"
        },
        "outputId": "715f1471-d5ce-49b1-c30e-2971799c9de2"
      },
      "source": [
        "history = model.fit(\n",
        "  x_train, y_train,\n",
        "  #epochs=5, batch_size=128,\n",
        "  epochs=30, batch_size=128,\n",
        "  validation_split=0.2\n",
        ")"
      ],
      "execution_count": null,
      "outputs": [
        {
          "output_type": "stream",
          "name": "stdout",
          "text": [
            "Epoch 1/30\n",
            "375/375 [==============================] - 4s 9ms/step - loss: 0.0063 - accuracy: 0.9979 - val_loss: 0.0459 - val_accuracy: 0.9922\n",
            "Epoch 2/30\n",
            "375/375 [==============================] - 3s 9ms/step - loss: 0.0066 - accuracy: 0.9977 - val_loss: 0.0449 - val_accuracy: 0.9918\n",
            "Epoch 3/30\n",
            "375/375 [==============================] - 4s 10ms/step - loss: 0.0071 - accuracy: 0.9974 - val_loss: 0.0505 - val_accuracy: 0.9903\n",
            "Epoch 4/30\n",
            "375/375 [==============================] - 3s 9ms/step - loss: 0.0081 - accuracy: 0.9973 - val_loss: 0.0403 - val_accuracy: 0.9919\n",
            "Epoch 5/30\n",
            "375/375 [==============================] - 3s 9ms/step - loss: 0.0060 - accuracy: 0.9980 - val_loss: 0.0459 - val_accuracy: 0.9920\n",
            "Epoch 6/30\n",
            "375/375 [==============================] - 3s 9ms/step - loss: 0.0063 - accuracy: 0.9979 - val_loss: 0.0485 - val_accuracy: 0.9927\n",
            "Epoch 7/30\n",
            "375/375 [==============================] - 4s 10ms/step - loss: 0.0067 - accuracy: 0.9979 - val_loss: 0.0475 - val_accuracy: 0.9912\n",
            "Epoch 8/30\n",
            "375/375 [==============================] - 3s 9ms/step - loss: 0.0062 - accuracy: 0.9980 - val_loss: 0.0481 - val_accuracy: 0.9923\n",
            "Epoch 9/30\n",
            "375/375 [==============================] - 3s 9ms/step - loss: 0.0058 - accuracy: 0.9980 - val_loss: 0.0432 - val_accuracy: 0.9923\n",
            "Epoch 10/30\n",
            "375/375 [==============================] - 4s 10ms/step - loss: 0.0051 - accuracy: 0.9983 - val_loss: 0.0490 - val_accuracy: 0.9923\n",
            "Epoch 11/30\n",
            "375/375 [==============================] - 3s 9ms/step - loss: 0.0045 - accuracy: 0.9986 - val_loss: 0.0538 - val_accuracy: 0.9925\n",
            "Epoch 12/30\n",
            "375/375 [==============================] - 3s 9ms/step - loss: 0.0050 - accuracy: 0.9982 - val_loss: 0.0444 - val_accuracy: 0.9926\n",
            "Epoch 13/30\n",
            "375/375 [==============================] - 3s 9ms/step - loss: 0.0075 - accuracy: 0.9976 - val_loss: 0.0423 - val_accuracy: 0.9919\n",
            "Epoch 14/30\n",
            "375/375 [==============================] - 4s 10ms/step - loss: 0.0052 - accuracy: 0.9980 - val_loss: 0.0423 - val_accuracy: 0.9928\n",
            "Epoch 15/30\n",
            "375/375 [==============================] - 3s 9ms/step - loss: 0.0057 - accuracy: 0.9980 - val_loss: 0.0479 - val_accuracy: 0.9922\n",
            "Epoch 16/30\n",
            "375/375 [==============================] - 3s 9ms/step - loss: 0.0040 - accuracy: 0.9987 - val_loss: 0.0455 - val_accuracy: 0.9925\n",
            "Epoch 17/30\n",
            "375/375 [==============================] - 3s 9ms/step - loss: 0.0045 - accuracy: 0.9984 - val_loss: 0.0471 - val_accuracy: 0.9927\n",
            "Epoch 18/30\n",
            "375/375 [==============================] - 3s 9ms/step - loss: 0.0049 - accuracy: 0.9983 - val_loss: 0.0465 - val_accuracy: 0.9919\n",
            "Epoch 19/30\n",
            "375/375 [==============================] - 3s 9ms/step - loss: 0.0055 - accuracy: 0.9982 - val_loss: 0.0452 - val_accuracy: 0.9915\n",
            "Epoch 20/30\n",
            "375/375 [==============================] - 4s 9ms/step - loss: 0.0046 - accuracy: 0.9984 - val_loss: 0.0511 - val_accuracy: 0.9926\n",
            "Epoch 21/30\n",
            "375/375 [==============================] - 4s 10ms/step - loss: 0.0037 - accuracy: 0.9986 - val_loss: 0.0414 - val_accuracy: 0.9934\n",
            "Epoch 22/30\n",
            "375/375 [==============================] - 3s 9ms/step - loss: 0.0047 - accuracy: 0.9987 - val_loss: 0.0466 - val_accuracy: 0.9923\n",
            "Epoch 23/30\n",
            "375/375 [==============================] - 3s 9ms/step - loss: 0.0039 - accuracy: 0.9988 - val_loss: 0.0507 - val_accuracy: 0.9919\n",
            "Epoch 24/30\n",
            "375/375 [==============================] - 4s 10ms/step - loss: 0.0049 - accuracy: 0.9984 - val_loss: 0.0552 - val_accuracy: 0.9922\n",
            "Epoch 25/30\n",
            "375/375 [==============================] - 4s 9ms/step - loss: 0.0046 - accuracy: 0.9984 - val_loss: 0.0539 - val_accuracy: 0.9915\n",
            "Epoch 26/30\n",
            "375/375 [==============================] - 3s 9ms/step - loss: 0.0063 - accuracy: 0.9983 - val_loss: 0.0463 - val_accuracy: 0.9918\n",
            "Epoch 27/30\n",
            "375/375 [==============================] - 3s 9ms/step - loss: 0.0040 - accuracy: 0.9985 - val_loss: 0.0435 - val_accuracy: 0.9931\n",
            "Epoch 28/30\n",
            "375/375 [==============================] - 4s 10ms/step - loss: 0.0039 - accuracy: 0.9985 - val_loss: 0.0539 - val_accuracy: 0.9918\n",
            "Epoch 29/30\n",
            "375/375 [==============================] - 3s 9ms/step - loss: 0.0048 - accuracy: 0.9985 - val_loss: 0.0501 - val_accuracy: 0.9926\n",
            "Epoch 30/30\n",
            "375/375 [==============================] - 3s 9ms/step - loss: 0.0040 - accuracy: 0.9987 - val_loss: 0.0506 - val_accuracy: 0.9916\n"
          ]
        }
      ]
    },
    {
      "cell_type": "markdown",
      "metadata": {
        "id": "TRNvyn8w21Wh"
      },
      "source": [
        "## The history object returned by fit() includes loss and accuracy metrics which we can plot"
      ]
    },
    {
      "cell_type": "code",
      "metadata": {
        "id": "-ShXK9eS6GBl",
        "colab": {
          "base_uri": "https://localhost:8080/",
          "height": 927
        },
        "outputId": "26410d9b-f2f8-4464-f047-ce888c7872aa"
      },
      "source": [
        "# Plot training & validation loss values\n",
        "plt.plot(history.history['loss'])\n",
        "plt.plot(history.history['val_loss'])\n",
        "plt.title('Model loss')\n",
        "plt.ylabel('Loss')\n",
        "plt.xlabel('Epoch')\n",
        "plt.legend(['Train', 'Test'], loc='upper left')\n",
        "plt.show()\n",
        "\n",
        "# Plot training & validation accuracy values\n",
        "plt.plot(history.history['accuracy'])\n",
        "plt.plot(history.history['val_accuracy'])\n",
        "plt.title('Model accuracy')\n",
        "plt.ylabel('Accuracy')\n",
        "plt.xlabel('Epoch')\n",
        "plt.legend(['Train', 'Test'], loc='upper left')\n",
        "plt.show()"
      ],
      "execution_count": null,
      "outputs": [
        {
          "output_type": "display_data",
          "data": {
            "text/plain": [
              "<Figure size 640x480 with 1 Axes>"
            ],
            "image/png": "[encoded data removed]"
          },
          "metadata": {}
        },
        {
          "output_type": "display_data",
          "data": {
            "text/plain": [
              "<Figure size 640x480 with 1 Axes>"
            ],
            "image/png": "[encoded data removed]"
          },
          "metadata": {}
        }
      ]
    },
    {
      "cell_type": "markdown",
      "metadata": {
        "id": "bUFlA5EvzFDB"
      },
      "source": [
        "### evaulating result"
      ]
    },
    {
      "cell_type": "code",
      "metadata": {
        "id": "R6U6JC6Z4Scj",
        "colab": {
          "base_uri": "https://localhost:8080/"
        },
        "outputId": "90103709-d484-4a53-b6e7-1c29e70496c7"
      },
      "source": [
        "#Test accuracy\n",
        "score = model.evaluate(x_test, y_test, verbose=0)\n",
        "print('Test loss:', score[0])\n",
        "print('Test accuracy:', score[1])"
      ],
      "execution_count": null,
      "outputs": [
        {
          "output_type": "stream",
          "name": "stdout",
          "text": [
            "Test loss: 0.04367596283555031\n",
            "Test accuracy: 0.9916999936103821\n"
          ]
        }
      ]
    },
    {
      "cell_type": "code",
      "source": [
        "#Train accuracy\n",
        "score = model.evaluate(x_train, y_train, verbose=0)\n",
        "print('Train loss:', score[0])\n",
        "print('Train accuracy:', score[1])"
      ],
      "metadata": {
        "colab": {
          "base_uri": "https://localhost:8080/"
        },
        "id": "ZopvELg9l1nP",
        "outputId": "f74c857f-6bec-4541-f7f4-df2c2992b6e6"
      },
      "execution_count": null,
      "outputs": [
        {
          "output_type": "stream",
          "name": "stdout",
          "text": [
            "Train loss: 0.010624408721923828\n",
            "Train accuracy: 0.9981666803359985\n"
          ]
        }
      ]
    },
    {
      "cell_type": "markdown",
      "metadata": {
        "id": "9Zdgj8PFzKCR"
      },
      "source": [
        "# Project 3\n",
        "## Add two layers after the initial convolutional layer in \"Setup the layers\" above\n",
        "1. Convolutional layer with kernel size 3 x 3 with relu\n",
        "2. Maxpool layer with size 2 x 2\n",
        "### Submit the code chunk below\n",
        "It should be of the form:\n",
        "\n",
        "---\n",
        "```\n",
        "model = Sequential()\n",
        "model.add(Conv2D(32, kernel_size=(3, 3),\n",
        "                 activation='relu',\n",
        "                 input_shape=(img_rows, img_cols, 1)))\n",
        "model.add(Your convolutional layer here!)\n",
        "model.add(Your maxpool layer here!)\n",
        "model.add(Dropout(0.25))\n",
        "model.add(Flatten())\n",
        "model.add(Dense(128, activation='relu'))\n",
        "model.add(Dropout(0.5))\n",
        "model.add(Dense(10, activation='softmax'))\n",
        "```\n",
        "---\n",
        "\n",
        "## Make sure you ran the full code with these two additional layers added, and report the final training accuracy value, test accuracy value.\n"
      ]
    },
    {
      "cell_type": "code",
      "metadata": {
        "id": "kmOm_dDFojM3"
      },
      "source": [
        "# Enter your code chunk here\n",
        "model = Sequential()\n",
        "model.add(Conv2D(32, kernel_size=(3, 3),\n",
        "                 activation='relu',\n",
        "                 input_shape=(img_rows, img_cols, 1)))\n",
        "# model.add(Your convolutional layer here!)\n",
        "# model.add(Your maxpool layer here!)\n",
        "model.add(Dropout(0.4))\n",
        "model.add(Flatten())\n",
        "model.add(Dense(128, activation='relu'))\n",
        "model.add(Dropout(0.3))\n",
        "model.add(Dense(10, activation='softmax'))"
      ],
      "execution_count": null,
      "outputs": []
    }
  ]
}